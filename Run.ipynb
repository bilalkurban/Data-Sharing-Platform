{
 "cells": [
  {
   "cell_type": "code",
   "execution_count": 3,
   "id": "6f8694b1-b4b4-45a6-9c0f-636fa97cd70e",
   "metadata": {},
   "outputs": [
    {
     "name": "stdout",
     "output_type": "stream",
     "text": [
      "^C\n"
     ]
    }
   ],
   "source": [
    "!streamlit run data_platform_with_api_endpoint.py"
   ]
  },
  {
   "cell_type": "code",
   "execution_count": null,
   "id": "46fbd342-ee8f-488f-a1b0-10278ca766f3",
   "metadata": {},
   "outputs": [],
   "source": [
    "!streamlit run data_platform_with_api_endpoint.py --server.address=0.0.0.0"
   ]
  },
  {
   "cell_type": "code",
   "execution_count": null,
   "id": "18c6a726-9049-4b21-b0b7-4b5277f2a6f3",
   "metadata": {},
   "outputs": [],
   "source": [
    "!streamlit run data_platform_with_api_endpoint.py --server.address=172.20.10.2"
   ]
  },
  {
   "cell_type": "code",
   "execution_count": null,
   "id": "b9d22f18-50d0-4e60-85b1-0a38af7049d6",
   "metadata": {},
   "outputs": [],
   "source": []
  }
 ],
 "metadata": {
  "kernelspec": {
   "display_name": "Python [conda env:base] *",
   "language": "python",
   "name": "conda-base-py"
  },
  "language_info": {
   "codemirror_mode": {
    "name": "ipython",
    "version": 3
   },
   "file_extension": ".py",
   "mimetype": "text/x-python",
   "name": "python",
   "nbconvert_exporter": "python",
   "pygments_lexer": "ipython3",
   "version": "3.12.7"
  }
 },
 "nbformat": 4,
 "nbformat_minor": 5
}
